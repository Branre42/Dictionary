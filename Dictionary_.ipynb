{
  "nbformat": 4,
  "nbformat_minor": 0,
  "metadata": {
    "colab": {
      "provenance": [],
      "authorship_tag": "ABX9TyPAuqMoOxhCiT5GYvuJKc2w",
      "include_colab_link": true
    },
    "kernelspec": {
      "name": "python3",
      "display_name": "Python 3"
    },
    "language_info": {
      "name": "python"
    }
  },
  "cells": [
    {
      "cell_type": "markdown",
      "metadata": {
        "id": "view-in-github",
        "colab_type": "text"
      },
      "source": [
        "<a href=\"https://colab.research.google.com/github/Branre42/Dictionary/blob/main/Dictionary_.ipynb\" target=\"_parent\"><img src=\"https://colab.research.google.com/assets/colab-badge.svg\" alt=\"Open In Colab\"/></a>"
      ]
    },
    {
      "cell_type": "code",
      "execution_count": 3,
      "metadata": {
        "colab": {
          "base_uri": "https://localhost:8080/"
        },
        "id": "kB_-qGtvMjw-",
        "outputId": "8dfc4d35-cc94-4f77-b74f-704385a59cc9"
      },
      "outputs": [
        {
          "output_type": "stream",
          "name": "stdout",
          "text": [
            "{10: 2, 40: 2, 50: 1, 4: 1}\n"
          ]
        }
      ],
      "source": [
        "def frequency(numbers):\n",
        "    freq_dict = {}\n",
        "    for num in numbers:\n",
        "        if num in freq_dict:\n",
        "            freq_dict[num] += 1\n",
        "        else:\n",
        "            freq_dict[num] = 1\n",
        "    return freq_dict\n",
        "\n",
        "numbers = [10, 40, 50, 4, 40, 10]\n",
        "result = frequency(numbers)\n",
        "print(result)"
      ]
    }
  ]
}